{
 "cells": [
  {
   "cell_type": "markdown",
   "metadata": {},
   "source": [
    "# BMI Calculator"
   ]
  },
  {
   "cell_type": "code",
   "execution_count": 18,
   "metadata": {},
   "outputs": [
    {
     "name": "stdout",
     "output_type": "stream",
     "text": [
      "22.03856749311295\n"
     ]
    }
   ],
   "source": [
    "name = input(\"Enter Your Name\")\n",
    "\n",
    "weight = int(input(\"Enter Your weight in kg: \"))\n",
    "\n",
    "height = int(input(\"Enter Your hight in cm: \"))\n",
    "\n",
    "BMI = weight / ((height/100)**2)\n",
    "\n",
    "if BMI > 0:\n",
    "    if (BMI <= 18.4):\n",
    "        print(name.capitalize() + \", you are Underweight.\")\n",
    "    elif (BMI <= 24.9):\n",
    "        print(name.capitalize() + \", you are Normal.\")\n",
    "    elif (BMI <=  39.9):\n",
    "        print(name.capitalize() + \", you are Overweight. You need to exercise more and stop sitting and writing so many Python tutorilas.\")\n",
    "    else:\n",
    "        print(name.capitalize() + \", you are Obese.\")\n",
    "else:\n",
    "    ('Enter Valid input')"
   ]
  },
  {
   "cell_type": "markdown",
   "metadata": {},
   "source": [
    "BMI = weight ÷ height2\n",
    "\n",
    "In metric units: BMI = weight (kg) ÷ height2 (meters)\n",
    "In US units: BMI = weight (lb) ÷ height2 (inches) * 703"
   ]
  }
 ],
 "metadata": {
  "kernelspec": {
   "display_name": "Python 3",
   "language": "python",
   "name": "python3"
  },
  "language_info": {
   "codemirror_mode": {
    "name": "ipython",
    "version": 3
   },
   "file_extension": ".py",
   "mimetype": "text/x-python",
   "name": "python",
   "nbconvert_exporter": "python",
   "pygments_lexer": "ipython3",
   "version": "3.10.5"
  }
 },
 "nbformat": 4,
 "nbformat_minor": 2
}
